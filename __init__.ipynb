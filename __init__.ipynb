{
 "cells": [
  {
   "cell_type": "code",
   "execution_count": null,
   "id": "233c6f9a",
   "metadata": {},
   "outputs": [],
   "source": [
    "import os\n",
    "import subprocess"
   ]
  },
  {
   "cell_type": "code",
   "execution_count": null,
   "id": "403fc2d5",
   "metadata": {},
   "outputs": [],
   "source": [
    "# Check if Jupytext is installed; if not, install it\n",
    "try:\n",
    "    import jupytext\n",
    "except ImportError:\n",
    "    subprocess.run(['python', '-m', 'pip', 'install', 'jupytext'])"
   ]
  },
  {
   "cell_type": "code",
   "execution_count": null,
   "id": "0f20bc7f",
   "metadata": {
    "lines_to_next_cell": 1
   },
   "outputs": [],
   "source": [
    "# Get a list of all files in the current directory\n",
    "current_dir = os.getcwd()\n",
    "file_list = os.listdir(current_dir)"
   ]
  },
  {
   "cell_type": "code",
   "execution_count": null,
   "id": "28281c05",
   "metadata": {
    "lines_to_next_cell": 1
   },
   "outputs": [],
   "source": [
    "# Function to check if a file exists\n",
    "def file_exists(file_path):\n",
    "    return os.path.isfile(file_path)"
   ]
  },
  {
   "cell_type": "code",
   "execution_count": null,
   "id": "7899018c",
   "metadata": {
    "lines_to_next_cell": 1
   },
   "outputs": [],
   "source": [
    "# Function to convert .ipynb to .py:percent\n",
    "def convert_ipynb_to_py_percent(ipynb_file):\n",
    "    subprocess.run(['python', '-m', 'jupytext', '--to', 'py:percent', ipynb_file])"
   ]
  },
  {
   "cell_type": "code",
   "execution_count": null,
   "id": "568af101",
   "metadata": {
    "lines_to_next_cell": 1
   },
   "outputs": [],
   "source": [
    "# Function to convert .py:percent to .ipynb\n",
    "def convert_py_percent_to_ipynb(py_percent_file):\n",
    "    subprocess.run(['python', '-m', 'jupytext', '--to', 'notebook', py_percent_file])"
   ]
  },
  {
   "cell_type": "code",
   "execution_count": null,
   "id": "ff24db29",
   "metadata": {},
   "outputs": [],
   "source": [
    "# Iterate through all files in the directory\n",
    "for filename in file_list:\n",
    "    name, extension = os.path.splitext(filename)\n",
    "    ipynb_file = name + '.ipynb'\n",
    "    py_percent_file = name + '.py'\n",
    "\n",
    "    if file_exists(ipynb_file) and file_exists(py_percent_file):\n",
    "        ipynb_mtime = os.path.getmtime(ipynb_file)\n",
    "        py_percent_mtime = os.path.getmtime(py_percent_file)\n",
    "\n",
    "        if ipynb_mtime > py_percent_mtime:\n",
    "            # .ipynb is newer, delete .py:percent and convert .ipynb to .py:percent\n",
    "            os.remove(py_percent_file)\n",
    "            convert_ipynb_to_py_percent(ipynb_file)\n",
    "        elif ipynb_mtime < py_percent_mtime:\n",
    "            # .py:percent is newer, delete .ipynb and convert .py:percent to .ipynb\n",
    "            os.remove(ipynb_file)\n",
    "            convert_py_percent_to_ipynb(py_percent_file)\n",
    "        elif ipynb_mtime == py_percent_mtime:\n",
    "            print(f'Both {ipynb_file} and {py_percent_file} have the same modification time')\n",
    "    else:\n",
    "        if file_exists(ipynb_file):\n",
    "            # Only .ipynb exists, convert it to .py:percent\n",
    "            convert_ipynb_to_py_percent(ipynb_file)\n",
    "            print(f'Converted {ipynb_file} to ipython script')\n",
    "        elif file_exists(py_percent_file):\n",
    "            # Only .py:percent exists, convert it to .ipynb\n",
    "            convert_py_percent_to_ipynb(py_percent_file)\n",
    "            print(f'Converted ipython script {py_percent_file} to notebook')"
   ]
  }
 ],
 "metadata": {
  "jupytext": {
   "cell_metadata_filter": "-all",
   "main_language": "python",
   "notebook_metadata_filter": "-all"
  }
 },
 "nbformat": 4,
 "nbformat_minor": 5
}
