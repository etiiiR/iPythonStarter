{
 "cells": [
  {
   "cell_type": "code",
   "execution_count": null,
   "id": "41d3698b",
   "metadata": {},
   "outputs": [],
   "source": []
  },
  {
   "cell_type": "markdown",
   "id": "6b11a949",
   "metadata": {},
   "source": [
    "H1 Title"
   ]
  },
  {
   "cell_type": "code",
   "execution_count": null,
   "id": "e0dbe088",
   "metadata": {
    "title": "Start Metascripts"
   },
   "outputs": [],
   "source": []
  },
  {
   "cell_type": "code",
   "execution_count": null,
   "id": "ec428c29",
   "metadata": {
    "title": "Importing Code"
   },
   "outputs": [],
   "source": [
    "import numpy as np\n",
    "import pandas as pd\n",
    "import torch\n",
    "import torch.nn as nn\n",
    "import math"
   ]
  }
 ],
 "metadata": {
  "jupytext": {
   "cell_metadata_filter": "title,-all",
   "main_language": "python",
   "notebook_metadata_filter": "-all"
  }
 },
 "nbformat": 4,
 "nbformat_minor": 5
}
