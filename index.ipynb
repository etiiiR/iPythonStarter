{
 "cells": [
  {
   "cell_type": "code",
   "execution_count": null,
   "id": "6659b287",
   "metadata": {},
   "outputs": [],
   "source": []
  },
  {
   "cell_type": "markdown",
   "id": "1b379ea7",
   "metadata": {},
   "source": [
    "H1 Title"
   ]
  },
  {
   "cell_type": "code",
   "execution_count": null,
   "id": "075a7550",
   "metadata": {
    "title": "Start Metascripts"
   },
   "outputs": [],
   "source": []
  },
  {
   "cell_type": "code",
   "execution_count": null,
   "id": "066fb326",
   "metadata": {
    "title": "Importing Code"
   },
   "outputs": [],
   "source": [
    "import numpy as np\n",
    "import pandas as pd\n",
    "import torch\n",
    "import torch.nn as nn\n",
    "import math"
   ]
  },
  {
   "cell_type": "code",
   "execution_count": null,
   "id": "d745db37",
   "metadata": {
    "title": "new cell"
   },
   "outputs": [],
   "source": [
    "import math\n",
    "import pandas\n",
    "import gugus"
   ]
  }
 ],
 "metadata": {
  "jupytext": {
   "cell_metadata_filter": "title,-all",
   "main_language": "python",
   "notebook_metadata_filter": "-all"
  }
 },
 "nbformat": 4,
 "nbformat_minor": 5
}
