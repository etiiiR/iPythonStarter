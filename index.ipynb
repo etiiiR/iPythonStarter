{
 "cells": [
  {
   "cell_type": "code",
   "execution_count": null,
   "id": "4f076bca",
   "metadata": {},
   "outputs": [],
   "source": []
  },
  {
   "cell_type": "markdown",
   "id": "c92dd3e7",
   "metadata": {},
   "source": [
    "H1 Title"
   ]
  },
  {
   "cell_type": "code",
   "execution_count": 1,
   "id": "a8f12c46",
   "metadata": {
    "title": "Start Metascripts"
   },
   "outputs": [
    {
     "name": "stdout",
     "output_type": "stream",
     "text": [
      "Requirement already satisfied: jupytext in c:\\python311\\lib\\site-packages (1.15.2)\n",
      "Requirement already satisfied: nbformat in c:\\python311\\lib\\site-packages (from jupytext) (5.9.2)\n",
      "Requirement already satisfied: pyyaml in c:\\python311\\lib\\site-packages (from jupytext) (6.0.1)\n",
      "Requirement already satisfied: toml in c:\\python311\\lib\\site-packages (from jupytext) (0.10.2)\n",
      "Requirement already satisfied: markdown-it-py>=1.0.0 in c:\\python311\\lib\\site-packages (from jupytext) (3.0.0)\n",
      "Requirement already satisfied: mdit-py-plugins in c:\\python311\\lib\\site-packages (from jupytext) (0.4.0)\n",
      "Requirement already satisfied: mdurl~=0.1 in c:\\python311\\lib\\site-packages (from markdown-it-py>=1.0.0->jupytext) (0.1.2)\n",
      "Requirement already satisfied: fastjsonschema in c:\\python311\\lib\\site-packages (from nbformat->jupytext) (2.18.0)\n",
      "Requirement already satisfied: jsonschema>=2.6 in c:\\python311\\lib\\site-packages (from nbformat->jupytext) (4.19.0)\n",
      "Requirement already satisfied: jupyter-core in c:\\users\\roeti\\appdata\\roaming\\python\\python311\\site-packages (from nbformat->jupytext) (5.3.1)\n",
      "Requirement already satisfied: traitlets>=5.1 in c:\\users\\roeti\\appdata\\roaming\\python\\python311\\site-packages (from nbformat->jupytext) (5.10.0)\n",
      "Requirement already satisfied: attrs>=22.2.0 in c:\\python311\\lib\\site-packages (from jsonschema>=2.6->nbformat->jupytext) (23.1.0)\n",
      "Requirement already satisfied: jsonschema-specifications>=2023.03.6 in c:\\python311\\lib\\site-packages (from jsonschema>=2.6->nbformat->jupytext) (2023.7.1)\n",
      "Requirement already satisfied: referencing>=0.28.4 in c:\\python311\\lib\\site-packages (from jsonschema>=2.6->nbformat->jupytext) (0.30.2)\n",
      "Requirement already satisfied: rpds-py>=0.7.1 in c:\\python311\\lib\\site-packages (from jsonschema>=2.6->nbformat->jupytext) (0.10.3)\n",
      "Requirement already satisfied: platformdirs>=2.5 in c:\\users\\roeti\\appdata\\roaming\\python\\python311\\site-packages (from jupyter-core->nbformat->jupytext) (3.10.0)\n",
      "Requirement already satisfied: pywin32>=300 in c:\\users\\roeti\\appdata\\roaming\\python\\python311\\site-packages (from jupyter-core->nbformat->jupytext) (306)\n"
     ]
    },
    {
     "ename": "NameError",
     "evalue": "name '__file__' is not defined",
     "output_type": "error",
     "traceback": [
      "\u001b[1;31m---------------------------------------------------------------------------\u001b[0m",
      "\u001b[1;31mNameError\u001b[0m                                 Traceback (most recent call last)",
      "\u001b[1;32mc:\\Users\\roeti\\OneDrive - Coop Genossenschaft\\Dokumente\\GitHub\\iPythonStarter\\index.ipynb Cell 3\u001b[0m line \u001b[0;36m5\n\u001b[0;32m      <a href='vscode-notebook-cell:/c%3A/Users/roeti/OneDrive%20-%20Coop%20Genossenschaft/Dokumente/GitHub/iPythonStarter/index.ipynb#W2sZmlsZQ%3D%3D?line=1'>2</a>\u001b[0m \u001b[39mimport\u001b[39;00m \u001b[39msubprocess\u001b[39;00m\n\u001b[0;32m      <a href='vscode-notebook-cell:/c%3A/Users/roeti/OneDrive%20-%20Coop%20Genossenschaft/Dokumente/GitHub/iPythonStarter/index.ipynb#W2sZmlsZQ%3D%3D?line=2'>3</a>\u001b[0m get_ipython()\u001b[39m.\u001b[39msystem(\u001b[39m'\u001b[39m\u001b[39mpython -m pip install jupytext\u001b[39m\u001b[39m'\u001b[39m)\n\u001b[1;32m----> <a href='vscode-notebook-cell:/c%3A/Users/roeti/OneDrive%20-%20Coop%20Genossenschaft/Dokumente/GitHub/iPythonStarter/index.ipynb#W2sZmlsZQ%3D%3D?line=4'>5</a>\u001b[0m \u001b[39mif\u001b[39;00m (\u001b[39m\"\u001b[39m\u001b[39m.py\u001b[39m\u001b[39m\"\u001b[39m \u001b[39min\u001b[39;00m os\u001b[39m.\u001b[39mpath\u001b[39m.\u001b[39mbasename(\u001b[39m__file__\u001b[39;49m)):\n\u001b[0;32m      <a href='vscode-notebook-cell:/c%3A/Users/roeti/OneDrive%20-%20Coop%20Genossenschaft/Dokumente/GitHub/iPythonStarter/index.ipynb#W2sZmlsZQ%3D%3D?line=5'>6</a>\u001b[0m     file1 \u001b[39m=\u001b[39m os\u001b[39m.\u001b[39mpath\u001b[39m.\u001b[39mbasename(\u001b[39m__file__\u001b[39m)  \u001b[39m# Replace with the path to your first file\u001b[39;00m\n\u001b[0;32m      <a href='vscode-notebook-cell:/c%3A/Users/roeti/OneDrive%20-%20Coop%20Genossenschaft/Dokumente/GitHub/iPythonStarter/index.ipynb#W2sZmlsZQ%3D%3D?line=6'>7</a>\u001b[0m     file2 \u001b[39m=\u001b[39m os\u001b[39m.\u001b[39mpath\u001b[39m.\u001b[39mbasename(\u001b[39m__file__\u001b[39m)[:\u001b[39m-\u001b[39m\u001b[39m3\u001b[39m] \u001b[39m+\u001b[39m \u001b[39m'\u001b[39m\u001b[39m.ipynb\u001b[39m\u001b[39m'\u001b[39m  \u001b[39m# Replace with the path to your second file\u001b[39;00m\n",
      "\u001b[1;31mNameError\u001b[0m: name '__file__' is not defined"
     ]
    }
   ],
   "source": [
    "import os\n",
    "import subprocess\n",
    "!python -m pip install jupytext\n",
    "\n",
    "if (\".py\" in os.path.basename(__file__)):\n",
    "    file1 = os.path.basename(__file__)  # Replace with the path to your first file\n",
    "    file2 = os.path.basename(__file__)[:-3] + '.ipynb'  # Replace with the path to your second file\n",
    "else:\n",
    "    file2 = os.path.basename(__file__)[:-5]  # Replace with the path to your first file\n",
    "    file1 = os.path.basename(__file__) + '.py'  # Replace with the path to your second file\n",
    "\n",
    "ipynb = False\n",
    "try:\n",
    "    if os.path.getmtime(file1) > os.path.getmtime(file2):\n",
    "        print(f\"{file1} is newer than {file2}\")\n",
    "    elif os.path.getmtime(file1) < os.path.getmtime(file2):\n",
    "        print(f\"{file2} is newer than {file1}\")\n",
    "        ipynb = True\n",
    "    else:\n",
    "        print(f\"{file1} and {file2} have the same modification time\")\n",
    "except:\n",
    "    pass     \n",
    "\n",
    "if (ipynb):\n",
    "    command =  f'python -m jupytext --to py:percent {file2}'\n",
    "else:   \n",
    "    command = f'python -m jupytext --to notebook {os.path.basename(__file__)}'\n",
    "subprocess.run(command, shell=True)\n",
    "\n"
   ]
  },
  {
   "cell_type": "code",
   "execution_count": null,
   "id": "823c0639",
   "metadata": {
    "lines_to_next_cell": 2,
    "title": "Importing Code"
   },
   "outputs": [],
   "source": [
    "import numpy as np\n",
    "import pandas as pd\n",
    "import torch\n",
    "import torch.nn as nn\n",
    "import torch.nn as nnimport os\n",
    "import torch.nn as nnimport subprocess\n",
    "\n"
   ]
  }
 ],
 "metadata": {
  "jupytext": {
   "cell_metadata_filter": "title,-all",
   "main_language": "python",
   "notebook_metadata_filter": "-all"
  },
  "kernelspec": {
   "display_name": "Python 3",
   "language": "python",
   "name": "python3"
  },
  "language_info": {
   "codemirror_mode": {
    "name": "ipython",
    "version": 3
   },
   "file_extension": ".py",
   "mimetype": "text/x-python",
   "name": "python",
   "nbconvert_exporter": "python",
   "pygments_lexer": "ipython3",
   "version": "3.11.3"
  }
 },
 "nbformat": 4,
 "nbformat_minor": 5
}
