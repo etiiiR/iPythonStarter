{
 "cells": [
  {
   "cell_type": "code",
   "execution_count": null,
   "id": "3af95744",
   "metadata": {},
   "outputs": [],
   "source": []
  },
  {
   "cell_type": "markdown",
   "id": "c753321b",
   "metadata": {},
   "source": [
    "H1 Title"
   ]
  },
  {
   "cell_type": "code",
   "execution_count": null,
   "id": "a8d06dc3",
   "metadata": {
    "title": "Start Metascripts"
   },
   "outputs": [],
   "source": []
  },
  {
   "cell_type": "code",
   "execution_count": null,
   "id": "591537ba",
   "metadata": {
    "lines_to_next_cell": 2,
    "title": "Importing Code"
   },
   "outputs": [],
   "source": [
    "import numpy as np\n",
    "import pandas as pd\n",
    "import torch\n",
    "import torch.nn as nn"
   ]
  }
 ],
 "metadata": {
  "jupytext": {
   "cell_metadata_filter": "title,-all",
   "main_language": "python",
   "notebook_metadata_filter": "-all"
  }
 },
 "nbformat": 4,
 "nbformat_minor": 5
}
